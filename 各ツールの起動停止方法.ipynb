{
 "cells": [
  {
   "cell_type": "markdown",
   "metadata": {},
   "source": [
    "> **<span style=\"font-size: larger;\">MySQL</span>**"
   ]
  },
  {
   "cell_type": "markdown",
   "metadata": {},
   "source": [
    "**<span style=\"font-size: larger;\">■ 起動</span>**  \n",
    "●コマンドプロンプトを開く    \n",
    "●『net start mysql57 』を実行  \n",
    "●『 mysql --user=root --password 』を実行  \n",
    "●『 Enter password: 』と表示されたらパスワード入力  "
   ]
  },
  {
   "cell_type": "markdown",
   "metadata": {},
   "source": [
    "**<span style=\"font-size: larger;\">■ ログアウト・停止</span>**  \n",
    "●『 exit; 』を実行してログアウトする  \n",
    "●『 net stop mysql@5.7 』を実行してSQLを停止する  "
   ]
  },
  {
   "cell_type": "markdown",
   "metadata": {},
   "source": [
    "> **<span style=\"font-size: larger;\">FastAPI</span>**"
   ]
  },
  {
   "cell_type": "markdown",
   "metadata": {},
   "source": [
    "**<span style=\"font-size: larger;\">■ 起動</span>**  \n",
    "● Python仮想環境を有効にする：『 cd FastAPI 』 → 『 .\\venv\\Scripts\\Activate 』  \n",
    "● Python仮想環境に入る：『 cd venv 』  \n",
    "● FastAPIをローカル起動する：『 uvicorn main:app --reload 』    "
   ]
  },
  {
   "cell_type": "markdown",
   "metadata": {},
   "source": [
    "**<span style=\"font-size: larger;\">■ ログアウト・停止</span>**  \n",
    "●『 ctr + C 』  "
   ]
  },
  {
   "cell_type": "markdown",
   "metadata": {},
   "source": [
    "> **<span style=\"font-size: larger;\">Next.js</span>**"
   ]
  },
  {
   "cell_type": "markdown",
   "metadata": {},
   "source": [
    "**<span style=\"font-size: larger;\">■ 起動</span>**  \n",
    " ● next-appディレクトリに移動：『cd next-app』  \n",
    " ● 開発モードで起動：『npm run dev』  \n",
    " ● ブラウザ[http://localhost:3000]が立ち上がれば完了"
   ]
  },
  {
   "cell_type": "markdown",
   "metadata": {},
   "source": [
    "> **<span style=\"font-size: larger;\">React</span>**"
   ]
  },
  {
   "cell_type": "markdown",
   "metadata": {},
   "source": [
    "**<span style=\"font-size: larger;\">■ 起動</span>**  \n",
    " ● next-appディレクトリに移動：『cd react-app』  \n",
    " ● 開発モードで起動：『npm start』  \n",
    " ● ブラウザ[http://localhost:3000]が立ち上がれば完了"
   ]
  }
 ],
 "metadata": {
  "language_info": {
   "name": "python"
  }
 },
 "nbformat": 4,
 "nbformat_minor": 2
}
