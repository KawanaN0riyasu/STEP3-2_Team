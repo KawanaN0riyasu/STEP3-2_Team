{
 "cells": [
  {
   "cell_type": "markdown",
   "metadata": {},
   "source": [
    "> **環境構築**"
   ]
  },
  {
   "cell_type": "markdown",
   "metadata": {},
   "source": [
    "**<span style=\"font-size: larger;\">■ FastAPI</span>**  \n",
    "\n",
    " ● 作業ディレクトリ内にfastapi-appディレクトリを用意  \n",
    " ● fastapi-appディレクトリに移動  \n",
    " ● ターミナル：powershell 　　※私のPCがWinだったので  \n",
    " ●『 python -m venv venv 』を実行  \n",
    " <span style=\"color:skyblue;\">  　→　python: Pythonインタープリタ実行コマンド。インストールされているPythonのバージョンに応じて、python3、python2などの形式で使用されることもある。</span>  \n",
    " <span style=\"color:skyblue;\">  　→　-mオプション: モジュール（module）を指定するオプションでvenvモジュールを指定している。venvは、Python標準ライブラリに含まれる仮想環境を管理するためのモジュール。</span>    \n",
    " <span style=\"color:skyblue;\">　→　venv: 仮想環境の名前。仮想環境ディレクトリをback-FastAPIディレクトリに作成し、名前をvenvにしている。仮想環境名は任意で、他の名前に変更することもできる。</span>  \n",
    " ●『 .\\venv\\Scripts\\Activate 』を実行して仮想環境(venv)を有効にする  \n",
    " <span style=\"color:skyblue;\">　→　Error：このシステムではスクリプト実行が無効です。</span>  \n",
    " ● メニュー右クリックして『powershell』を管理者として実行  \n",
    " ● 『Get-ExecutionPolicy』入力 → 結果が Restricted を確認  \n",
    " ● 『Set-ExecutionPolicy RemoteSigned』入力 →　設定を『Y』に変更  \n",
    " <span style=\"color:skyblue;\">　→　「RemoteSigned」は、リモートからダウンロードされたスクリプトには署名が必要だが、ローカル作成されたものは署名不要という設定</span>  \n",
    " ●『 .\\venv\\Scripts\\Activate 』を実行して仮想環境(venv)を有効にする  \n",
    " <span style=\"color:skyblue;\">　→　仮想環境が有効になり、プロンプトの前に仮想環境名（venv）が表示される。</span>  \n",
    "\n",
    " (補足)『deactivate』で仮想環境から抜けて通常のPowershellに戻れる  \n",
    "\n",
    " ●『pip install fastapi uvicorn』でライブラリインストール    \n",
    " ● main.pyファイル作成  \n",
    "\n",
    "\n"
   ]
  },
  {
   "cell_type": "markdown",
   "metadata": {},
   "source": [
    "**<span style=\"font-size: larger;\">■ React</span>**  \n",
    "\n",
    " ● ターミナル(powershell)にて『npx create-react-app react-app』実行  \n",
    " ● 『Ok to proceed? (y)』と入力されたら、Enter  \n",
    " <span style=\"color:skyblue;\">　 *1:react-app＝フォルダ名</span>  \n",
    " <span style=\"color:skyblue;\">　 *2:npxが使えない場合は、`npm install npx -g`等でインストール</span>   \n",
    " ● 『cd my-app』とターミナルに入力してreact-appディレクトリに移動  \n",
    " ● 『npm start』とターミナルに入力して開発モードでアプリ起動  \n",
    " ●　ブラウザ[http://localhost:3000]が立ち上がり、Reactのロゴが表示されれば環境構築完了　　"
   ]
  },
  {
   "cell_type": "markdown",
   "metadata": {},
   "source": [
    "**<span style=\"font-size: larger;\">■ Next.js</span>**  \n",
    "\n",
    " ● ターミナル(powershell)にて『npx create-next-app@latest』実行  \n",
    " ● 『Ok to proceed? (y)』と入力されたら、Enter  \n",
    " <span style=\"color:skyblue;\">　 *npxが使えない場合は、`npm install npx -g`等でインストール</span>   \n",
    " ● 『What is your project named?』と聞かれたらアプリ名を入力 ：next-app  \n",
    " ● 『Would you like to use TypeScript?』：No   *TypeScriptというJavaScript上位互換言語を利用するか  \n",
    " ● 『 Would you like to use ESLint?』：Yes  \n",
    " ● 『 Would you like to use Tailwind CSS?』：Yes  \n",
    " ● 『 Would you like to use `src/` directory?』：Yes  \n",
    " ● 『 Would you like to use App Router? (recommended) 』：Yes  \n",
    " ● 『 Would you like to customize the default import alias (@/*)? 』：No  \n",
    " ● 『cd next-app』とターミナルに入力してnext-appに移動\n",
    " ● 『npm run dev』とターミナルに入力して開発モードでアプリ起動  \n",
    " ●　ブラウザ[http://localhost:3000]が立ち上がり、Next.js画面が表示されれば環境構築完了　　"
   ]
  }
 ],
 "metadata": {
  "kernelspec": {
   "display_name": "Python 3",
   "language": "python",
   "name": "python3"
  },
  "language_info": {
   "codemirror_mode": {
    "name": "ipython",
    "version": 3
   },
   "file_extension": ".py",
   "mimetype": "text/x-python",
   "name": "python",
   "nbconvert_exporter": "python",
   "pygments_lexer": "ipython3",
   "version": "3.11.3"
  }
 },
 "nbformat": 4,
 "nbformat_minor": 2
}
